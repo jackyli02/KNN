{
 "cells": [
  {
   "cell_type": "markdown",
   "metadata": {},
   "source": [
    "context: Various input matrices of size B*D where B is not constant. We also have a reference matrix of N*D. Among all input matrices, find k rows that are nearest to any of the rows in the reference matrix."
   ]
  },
  {
   "cell_type": "code",
   "execution_count": 31,
   "metadata": {},
   "outputs": [],
   "source": [
    "import numpy as np\n",
    "import matplotlib.pyplot as plt"
   ]
  },
  {
   "cell_type": "code",
   "execution_count": 32,
   "metadata": {},
   "outputs": [],
   "source": [
    "mean1 = [5, 5]\n",
    "cov1 = [[0.5,0],  [0,0.5]]\n",
    "mean2 = [2, 2]\n",
    "cov2 = [[2,0],  [0,2]]\n",
    "mean3 = [2, 8]\n",
    "cov3 = [[2,0],  [0,2]]"
   ]
  },
  {
   "cell_type": "code",
   "execution_count": 33,
   "metadata": {},
   "outputs": [],
   "source": [
    "ref = np.random.multivariate_normal(mean1, cov1, 10)"
   ]
  },
  {
   "cell_type": "code",
   "execution_count": 34,
   "metadata": {},
   "outputs": [],
   "source": [
    "a1 = np.random.multivariate_normal(mean2, cov2, 13)\n",
    "a2 = np.random.multivariate_normal(mean3, cov3, 34)"
   ]
  },
  {
   "cell_type": "code",
   "execution_count": 35,
   "metadata": {},
   "outputs": [],
   "source": [
    "pack = [a1, a2]"
   ]
  },
  {
   "cell_type": "code",
   "execution_count": 36,
   "metadata": {},
   "outputs": [],
   "source": [
    "def L2 (X, Y):\n",
    "    res = np.zeros((len(X), len(Y)))\n",
    "    for i in np.arange(len(X)):\n",
    "        for j in np.arange(len(Y)):\n",
    "            res[i, j] = np.sqrt(np.sum((X[i]-Y[j])**2.0))\n",
    "    return res"
   ]
  },
  {
   "cell_type": "code",
   "execution_count": 37,
   "metadata": {},
   "outputs": [],
   "source": [
    "def cityblock (X,Y):\n",
    "    pass"
   ]
  },
  {
   "cell_type": "code",
   "execution_count": 38,
   "metadata": {},
   "outputs": [],
   "source": [
    "class KNN:\n",
    "    \n",
    "    def __init__ (self, dfn, k, reference):\n",
    "        self.k = k\n",
    "        self.dfn = dfn\n",
    "        self.k_dist = np.ones(k)*np.inf\n",
    "        self.reference = reference\n",
    "        self.k_nearest = np.zeros((k, len(reference[0])))\n",
    "    \n",
    "    def distance_function(self, X,Y):\n",
    "        if (self.dfn == \"L2\"):\n",
    "            return L2(X,Y)\n",
    "        if (self.dfn == \"cityblock\"):\n",
    "            return cityblock(X,Y)\n",
    "    \n",
    "    def observe(self, X):\n",
    "        self.dist_x = self.distance_function(X, self.reference)\n",
    "        row_min = np.array([min(self.dist_x[i, ]) for i in np.arange(len(self.dist_x))])\n",
    "        min_k = np.sort(row_min)[:3]\n",
    "        min_k_coord = np.array([np.concatenate(np.where(self.dist_x == i)) for i in min_k][:3])\n",
    "        print(min_k, \"\\n\",min_k_coord)\n",
    "        #min_k_coord is the coordinate of the k smallest distance in the distance matrix\n",
    "        for i in np.arange(len(min_k)): #compare the distance of the current query to the distance of previous queries\n",
    "            if min_k[i] < np.max(self.k_dist):\n",
    "                self.k_dist[-1] = min_k[i]\n",
    "                temp_order = np.argsort(self.k_dist)\n",
    "                self.k_dist = np.sort(self.k_dist)\n",
    "                self.k_nearest[-1] = X[min_k_coord[i][0],]\n",
    "                self.k_nearest = self.k_nearest[temp_order,]"
   ]
  },
  {
   "cell_type": "code",
   "execution_count": 39,
   "metadata": {},
   "outputs": [
    {
     "name": "stdout",
     "output_type": "stream",
     "text": [
      "[1.6946527  2.26213137 2.62180269] \n",
      " [[2 3]\n",
      " [5 3]\n",
      " [4 3]]\n",
      "[1.14069258 1.14330465 1.7569555 ] \n",
      " [[18  4]\n",
      " [24  8]\n",
      " [26  8]]\n"
     ]
    },
    {
     "data": {
      "text/plain": [
       "array([[3.64105684, 5.2162909 ],\n",
       "       [4.16255619, 6.70735899],\n",
       "       [3.51271287, 2.97702678]])"
      ]
     },
     "execution_count": 39,
     "metadata": {},
     "output_type": "execute_result"
    }
   ],
   "source": [
    "#implement the classifier\n",
    "knn = KNN(\"L2\", 3, ref)\n",
    "for i in pack:\n",
    "    knn.observe(i)\n",
    "nearst = knn.k_nearest\n",
    "nearst"
   ]
  },
  {
   "cell_type": "code",
   "execution_count": 40,
   "metadata": {},
   "outputs": [
    {
     "data": {
      "text/plain": [
       "<matplotlib.collections.PathCollection at 0x7fbbacd69650>"
      ]
     },
     "execution_count": 40,
     "metadata": {},
     "output_type": "execute_result"
    },
    {
     "data": {
      "image/png": "[encoded data removed]",
      "text/plain": [
       "<Figure size 432x288 with 1 Axes>"
      ]
     },
     "metadata": {
      "needs_background": "light"
     },
     "output_type": "display_data"
    }
   ],
   "source": [
    "plt.axis('equal')\n",
    "plt.xlim([0,10])\n",
    "plt.ylim([0,10])\n",
    "plt.scatter(ref.T[0], ref.T[1])\n",
    "plt.scatter(a1.T[0], a1.T[1], c = \"C1\")\n",
    "plt.scatter(a2.T[0], a2.T[1], c = \"C2\")\n",
    "plt.scatter(nearst.T[0], nearst.T[1], c= \"C3\")"
   ]
  }
 ],
 "metadata": {
  "kernelspec": {
   "display_name": "Python 3",
   "language": "python",
   "name": "python3"
  },
  "language_info": {
   "codemirror_mode": {
    "name": "ipython",
    "version": 3
   },
   "file_extension": ".py",
   "mimetype": "text/x-python",
   "name": "python",
   "nbconvert_exporter": "python",
   "pygments_lexer": "ipython3",
   "version": "3.7.4"
  }
 },
 "nbformat": 4,
 "nbformat_minor": 2
}
